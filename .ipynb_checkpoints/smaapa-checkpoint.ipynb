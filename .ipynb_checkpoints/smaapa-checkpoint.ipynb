{
 "cells": [
  {
   "cell_type": "code",
   "execution_count": 85,
   "id": "affa9bdd-5b21-4afc-8768-60acef36492c",
   "metadata": {},
   "outputs": [],
   "source": [
    "# run samap\n",
    "# TO DO: ensure that gene names in murine dataset are MURINE symbol!\n",
    "# # TO DO: transfer cell annotations to file with murine symbols (using cell barcode)\n",
    "\n",
    "import samap\n",
    "import scanpy as sc\n",
    "import samalg\n",
    "import anndata as ad"
   ]
  },
  {
   "cell_type": "code",
   "execution_count": 86,
   "id": "134652d6-9705-4606-aaf9-2657cd500c84",
   "metadata": {},
   "outputs": [
    {
     "name": "stdout",
     "output_type": "stream",
     "text": [
      "samalg OK: 1.0.0\n",
      "samap  OK: 1.0.16\n",
      "scanpy OK: 1.9.3\n"
     ]
    }
   ],
   "source": [
    "print(\"samalg OK:\", samalg.__version__)\n",
    "print(\"samap  OK:\", samap.__version__)\n",
    "print(\"scanpy OK:\", sc.__version__)"
   ]
  },
  {
   "cell_type": "code",
   "execution_count": 87,
   "id": "8c17a75e-c282-4f61-af0e-f3234310b88d",
   "metadata": {},
   "outputs": [],
   "source": [
    "# -------------------------------------------------------- #\n",
    "# load datasets\n",
    "fn1 = '/Users/dr/cr/pr/class_II_project/in/mouse_raw_wlabels.h5ad'\n",
    "#fn2 = '/Users/dr/cr/pr/class_II_project/in/human_raw_wlabels.h5ad'\n",
    "fn2 = '/Users/dr/cr/pr/class_II_project/in/human_raw_wlabels_new.h5ad'\n",
    "\n",
    "#fn1 = ad.read_h5ad(fn1)\n",
    "#fn2 = ad.read_h5ad(fn2)\n",
    "\n",
    "# set var_names to Ensembl IDs (from var[\"gene_ids\"])\n",
    "#fn1.var_names = fn1.var[\"gene_ids\"].astype(str)\n",
    "#fn1.var_names_make_unique()\n",
    "#fn2.var.set_index(\"ensembl_id\", inplace=True)\n",
    "#fn2.var_names_make_unique()\n",
    "\n",
    "filenames = {'mm':fn1,'hs':fn2}"
   ]
  },
  {
   "cell_type": "code",
   "execution_count": 77,
   "id": "313c6c56-43e4-4c31-8b2a-8ac2e38c2040",
   "metadata": {},
   "outputs": [
    {
     "name": "stdout",
     "output_type": "stream",
     "text": [
      "[]\n",
      "Empty DataFrame\n",
      "Columns: []\n",
      "Index: [MIR1302-2HG, FAM138A, OR4F5, AL627309.1, AL627309.3]\n"
     ]
    }
   ],
   "source": [
    "print(fn2.var.columns.tolist())\n",
    "print(fn2.var.head())"
   ]
  },
  {
   "cell_type": "code",
   "execution_count": 89,
   "id": "32414bf0-0cf6-4a2f-826e-7948c9da5778",
   "metadata": {},
   "outputs": [],
   "source": [
    "# -------------------------------------------------------- #\n",
    "from samalg import SAM\n",
    "import sys\n",
    "\n",
    "# make sam object\n",
    "sam1=SAM()\n",
    "sam1.load_data(fn1)\n",
    "\n",
    "sam2=SAM()\n",
    "sam2.load_data(fn2)\n",
    "\n",
    "sams = {'mm':sam1,'hs':sam2}"
   ]
  },
  {
   "cell_type": "code",
   "execution_count": 80,
   "id": "a556f43d-154e-4bdd-80e1-c88fa8260b10",
   "metadata": {},
   "outputs": [
    {
     "name": "stdout",
     "output_type": "stream",
     "text": [
      "var columns: ['gene_symbols']\n",
      "obvious keys present: ['gene_symbols']\n",
      "first var_names: ['ENSMUSG00000051951', 'ENSMUSG00000089699', 'ENSMUSG00000102331', 'ENSMUSG00000102343', 'ENSMUSG00000025900', 'ENSMUSG00000025902', 'ENSMUSG00000104238', 'ENSMUSG00000104328', 'ENSMUSG00000033845', 'ENSMUSG00000120403']\n",
      "var columns: ['ensembl_id']\n",
      "obvious keys present: ['ensembl_id']\n",
      "first var_names: ['ENSG00000243485', 'ENSG00000237613', 'ENSG00000186092', 'ENSG00000284733', 'ENSG00000284662', 'ENSG00000237491', 'ENSG00000177757', 'ENSG00000228794', 'ENSG00000225880', 'ENSG00000230368']\n"
     ]
    }
   ],
   "source": [
    "# diagnose issue with names\n",
    "\n",
    "print(\"var columns:\", list(fn1.var.columns))\n",
    "print(\"obvious keys present:\", [k for k in [\"gene_ids\",\"gene_id\",\"ensembl_id\",\"GeneID\",\"gene_symbols\",\"symbol\",\"symbols\"] if k in fn1.var])\n",
    "print(\"first var_names:\", fn1.var_names[:10].tolist())\n",
    "\n",
    "print(\"var columns:\", list(fn2.var.columns))\n",
    "print(\"obvious keys present:\", [k for k in [\"gene_ids\",\"gene_id\",\"ensembl_id\",\"GeneID\",\"gene_symbols\",\"symbol\",\"symbols\"] if k in fn2.var])\n",
    "print(\"first var_names:\", fn2.var_names[:10].tolist())\n",
    "\n",
    "# TO DO: replace human symbol names with ensembl ids"
   ]
  },
  {
   "cell_type": "code",
   "execution_count": 62,
   "id": "b728f24a-90cb-4610-9c85-94e0392b7826",
   "metadata": {},
   "outputs": [
    {
     "name": "stderr",
     "output_type": "stream",
     "text": [
      "Input sequence provided is already in string format. No operation performed\n",
      "Input sequence provided is already in string format. No operation performed\n",
      "1512 input query terms found dup hits:\t[('MIR1302-2HG', 2), ('LINC00115', 2), ('LINC01786', 2), ('SLC35E2A', 2), ('TNFRSF14-AS1', 3), ('LIN\n",
      "13319 input query terms found no hit:\t['AL627309.1', 'AL627309.3', 'AL627309.2', 'AL627309.5', 'AL627309.4', 'AP006222.2', 'AL732372.1', '\n"
     ]
    }
   ],
   "source": [
    "import pandas as pd\n",
    "import mygene\n",
    "\n",
    "symbols = pd.Index(fn2.var_names.astype(str))\n",
    "\n",
    "mg = mygene.MyGeneInfo()\n",
    "res = mg.querymany(symbols.tolist(),\n",
    "                   scopes=\"symbol\",\n",
    "                   fields=\"ensembl.gene\",\n",
    "                   species=\"human\",\n",
    "                   as_dataframe=True).reset_index()\n"
   ]
  },
  {
   "cell_type": "code",
   "execution_count": 79,
   "id": "0fcfca91-07e3-4676-a0c7-a3b56da88f23",
   "metadata": {},
   "outputs": [],
   "source": [
    "# flatten \"ensembl.gene\" (can be dict/list/string) → plain ENSG\n",
    "def flat(x):\n",
    "    if isinstance(x, list): x = x[0]\n",
    "    if isinstance(x, dict): return x.get(\"gene\")\n",
    "    return x\n",
    "\n",
    "res[\"ENSG\"] = res[\"ensembl.gene\"].map(flat)\n",
    "\n",
    "# symbol -> ENSG mapper\n",
    "mapper = (res.dropna(subset=[\"ENSG\"])\n",
    "            .drop_duplicates(\"query\")\n",
    "            .set_index(\"query\")[\"ENSG\"])\n",
    "\n",
    "# make Series (not Index) so .notna() returns a Series\n",
    "new_ids = pd.Series(symbols.map(mapper), index=symbols, dtype=\"string\")\n",
    "\n",
    "# keep only mapped genes\n",
    "keep = new_ids.notna().to_numpy()\n",
    "fn2 = fn2[:, keep].copy()\n",
    "fn2.var[\"ensembl_id\"] = new_ids[keep].to_numpy()\n",
    "\n",
    "fn2.var_names = fn2.var[\"ensembl_id\"]\n",
    "fn2.var_names_make_unique()\n",
    "\n"
   ]
  },
  {
   "cell_type": "code",
   "execution_count": 49,
   "id": "dfaf1976-5093-4370-b232-51eaef37dc9f",
   "metadata": {},
   "outputs": [
    {
     "ename": "AttributeError",
     "evalue": "'SAM' object has no attribute 'adata'",
     "output_type": "error",
     "traceback": [
      "\u001b[0;31m---------------------------------------------------------------------------\u001b[0m",
      "\u001b[0;31mAttributeError\u001b[0m                            Traceback (most recent call last)",
      "Cell \u001b[0;32mIn[49], line 29\u001b[0m\n\u001b[1;32m     25\u001b[0m                 mapping[k] \u001b[38;5;241m=\u001b[39m to_fn(M)\n\u001b[1;32m     27\u001b[0m     \u001b[38;5;28;01mreturn\u001b[39;00m adata\n\u001b[0;32m---> 29\u001b[0m coerce_adata_sparse(\u001b[43msam1\u001b[49m\u001b[38;5;241;43m.\u001b[39;49m\u001b[43madata\u001b[49m)\n\u001b[1;32m     30\u001b[0m coerce_adata_sparse(sam2\u001b[38;5;241m.\u001b[39madata)\n",
      "\u001b[0;31mAttributeError\u001b[0m: 'SAM' object has no attribute 'adata'"
     ]
    }
   ],
   "source": [
    "# fix matrix issue\n",
    "\n",
    "from scipy.sparse import csr_matrix, csc_matrix, lil_matrix, issparse\n",
    "\n",
    "def coerce_adata_sparse(adata, to=\"csr\"):\n",
    "    to_fn = {\"csr\": csr_matrix, \"csc\": csc_matrix}[to]\n",
    "\n",
    "    # X\n",
    "    if issparse(adata.X) and not isinstance(adata.X, (csr_matrix, csc_matrix)):\n",
    "        adata.X = to_fn(adata.X)\n",
    "\n",
    "    # layers\n",
    "    for k in list(adata.layers.keys()):\n",
    "        M = adata.layers[k]\n",
    "        if issparse(M) and not isinstance(M, (csr_matrix, csc_matrix)):\n",
    "            adata.layers[k] = to_fn(M)\n",
    "\n",
    "    # pairwise matrices\n",
    "    for attr in (\"obsp\", \"varp\"):\n",
    "        mapping = getattr(adata, attr, None)\n",
    "        if mapping is None: continue\n",
    "        for k in list(mapping.keys()):\n",
    "            M = mapping[k]\n",
    "            if issparse(M) and not isinstance(M, (csr_matrix, csc_matrix)):\n",
    "                mapping[k] = to_fn(M)\n",
    "\n",
    "    return adata\n",
    "\n",
    "coerce_adata_sparse(sam1.adata)\n",
    "coerce_adata_sparse(sam2.adata)\n"
   ]
  },
  {
   "cell_type": "code",
   "execution_count": 81,
   "id": "8ebaac41-c884-4e2e-811d-9b732b169b11",
   "metadata": {},
   "outputs": [],
   "source": [
    "if fn2.var.index.name in fn2.var.columns:\n",
    "    fn2.var.rename(columns={fn2.var.index.name: fn2.var.index.name + \"_col\"}, inplace=True)\n",
    "fn2.write('/Users/dr/cr/pr/class_II_project/in/human_raw_wlabels_new.h5ad')"
   ]
  },
  {
   "cell_type": "code",
   "execution_count": null,
   "id": "71804b36-9748-4502-b213-d0c297f66101",
   "metadata": {},
   "outputs": [],
   "source": [
    "fn2.write(\"/path/to/save/human.h5ad\")"
   ]
  },
  {
   "cell_type": "code",
   "execution_count": 90,
   "id": "4bd35dce-9bd6-4b1c-a3ed-fa01d4054c68",
   "metadata": {},
   "outputs": [
    {
     "name": "stdout",
     "output_type": "stream",
     "text": [
      "RUNNING SAM\n",
      "Iteration: 0, Convergence: 1.0\n"
     ]
    },
    {
     "name": "stderr",
     "output_type": "stream",
     "text": [
      "/opt/anaconda3/envs/samap310/lib/python3.10/site-packages/anndata/_core/storage.py:48: FutureWarning: AnnData previously had undefined behavior around matrices of type <class 'scipy.sparse._lil.lil_matrix'>.In 0.12, passing in this type will throw an error. Please convert to a supported type.Continue using for this minor version at your own risk.\n",
      "  warnings.warn(msg, FutureWarning)\n"
     ]
    },
    {
     "name": "stdout",
     "output_type": "stream",
     "text": [
      "Iteration: 1, Convergence: 0.9653356828904599\n"
     ]
    },
    {
     "name": "stderr",
     "output_type": "stream",
     "text": [
      "/opt/anaconda3/envs/samap310/lib/python3.10/site-packages/anndata/_core/storage.py:48: FutureWarning: AnnData previously had undefined behavior around matrices of type <class 'scipy.sparse._lil.lil_matrix'>.In 0.12, passing in this type will throw an error. Please convert to a supported type.Continue using for this minor version at your own risk.\n",
      "  warnings.warn(msg, FutureWarning)\n"
     ]
    },
    {
     "name": "stdout",
     "output_type": "stream",
     "text": [
      "Computing the UMAP embedding...\n"
     ]
    },
    {
     "name": "stderr",
     "output_type": "stream",
     "text": [
      "/opt/anaconda3/envs/samap310/lib/python3.10/site-packages/umap/umap_.py:1952: UserWarning: n_jobs value 1 overridden to 1 by setting random_state. Use no seed for parallelism.\n",
      "  warn(\n"
     ]
    },
    {
     "name": "stdout",
     "output_type": "stream",
     "text": [
      "Elapsed time: 27.759329080581665 seconds\n",
      "RUNNING SAM\n",
      "Iteration: 0, Convergence: 1.0\n"
     ]
    },
    {
     "name": "stderr",
     "output_type": "stream",
     "text": [
      "/opt/anaconda3/envs/samap310/lib/python3.10/site-packages/anndata/_core/storage.py:48: FutureWarning: AnnData previously had undefined behavior around matrices of type <class 'scipy.sparse._lil.lil_matrix'>.In 0.12, passing in this type will throw an error. Please convert to a supported type.Continue using for this minor version at your own risk.\n",
      "  warnings.warn(msg, FutureWarning)\n"
     ]
    },
    {
     "name": "stdout",
     "output_type": "stream",
     "text": [
      "Iteration: 1, Convergence: 0.9571114441013635\n"
     ]
    },
    {
     "name": "stderr",
     "output_type": "stream",
     "text": [
      "/opt/anaconda3/envs/samap310/lib/python3.10/site-packages/anndata/_core/storage.py:48: FutureWarning: AnnData previously had undefined behavior around matrices of type <class 'scipy.sparse._lil.lil_matrix'>.In 0.12, passing in this type will throw an error. Please convert to a supported type.Continue using for this minor version at your own risk.\n",
      "  warnings.warn(msg, FutureWarning)\n"
     ]
    },
    {
     "name": "stdout",
     "output_type": "stream",
     "text": [
      "Computing the UMAP embedding...\n"
     ]
    },
    {
     "name": "stderr",
     "output_type": "stream",
     "text": [
      "/opt/anaconda3/envs/samap310/lib/python3.10/site-packages/umap/umap_.py:1952: UserWarning: n_jobs value 1 overridden to 1 by setting random_state. Use no seed for parallelism.\n",
      "  warn(\n"
     ]
    },
    {
     "name": "stdout",
     "output_type": "stream",
     "text": [
      "Elapsed time: 98.00267291069031 seconds\n"
     ]
    }
   ],
   "source": [
    "# -------------------------------------------------------- #\n",
    "from samap.mapping import SAMAP\n",
    "# run samap\n",
    "# TO DO: move maps into ~/in/maps\n",
    "\n",
    "sam1.run()  # optionally sam1.run(k=20, npcs=50, standardize=True)\n",
    "sam2.run()"
   ]
  },
  {
   "cell_type": "code",
   "execution_count": null,
   "id": "da9a057a-a924-43ae-bdc0-16572848761a",
   "metadata": {},
   "outputs": [],
   "source": []
  },
  {
   "cell_type": "code",
   "execution_count": 92,
   "id": "9794af63-26b8-426d-899b-e08584f22c4f",
   "metadata": {},
   "outputs": [
    {
     "name": "stdout",
     "output_type": "stream",
     "text": [
      "Not updating the manifold...\n",
      "0 `mm` gene symbols match between the datasets and the BLAST graph.\n",
      "0 `hs` gene symbols match between the datasets and the BLAST graph.\n"
     ]
    }
   ],
   "source": [
    "# IMPORTANT CHECK: make sure maps are in subfolders called \"mmhs\" and \"hsmm\" or will get error\n",
    "# CHECK 2: make sure whatever gene naming convention you use in the map is the same as var names\n",
    "sm = SAMAP(\n",
    "        sams,\n",
    "        f_maps = '/Users/dr/cr/pr/class_II_project/in/maps/',\n",
    "    )"
   ]
  },
  {
   "cell_type": "code",
   "execution_count": null,
   "id": "0852e25a-c82f-401c-ad69-e6db359b727e",
   "metadata": {},
   "outputs": [],
   "source": [
    "sm.run(neigh_from_keys=[\"cell_type\"], umap = True)"
   ]
  },
  {
   "cell_type": "code",
   "execution_count": null,
   "id": "d0892027-25dc-4a32-986a-f942d11727de",
   "metadata": {},
   "outputs": [],
   "source": []
  },
  {
   "cell_type": "code",
   "execution_count": null,
   "id": "87ee28a7-1d06-4338-bb5d-bb34b95ef508",
   "metadata": {},
   "outputs": [],
   "source": []
  },
  {
   "cell_type": "code",
   "execution_count": 94,
   "id": "0b14bda6-1372-4023-830a-4cafd2102d42",
   "metadata": {},
   "outputs": [
    {
     "name": "stderr",
     "output_type": "stream",
     "text": [
      "Input sequence provided is already in string format. No operation performed\n",
      "Input sequence provided is already in string format. No operation performed\n",
      "4 input query terms found dup hits:\t[('ENSMUSG00000106441', 2), ('ENSMUSG00000072694', 2), ('ENSMUSG00000112376', 2), ('ENSMUSG000001152\n",
      "451 input query terms found no hit:\t['ENSMUSG00000100237', 'ENSMUSG00000101409', 'ENSMUSG00000101599', 'ENSMUSG00000100301', 'ENSMUSG000\n"
     ]
    },
    {
     "ename": "ValueError",
     "evalue": "cannot reindex on an axis with duplicate labels",
     "output_type": "error",
     "traceback": [
      "\u001b[0;31m---------------------------------------------------------------------------\u001b[0m",
      "\u001b[0;31mValueError\u001b[0m                                Traceback (most recent call last)",
      "Cell \u001b[0;32mIn[94], line 42\u001b[0m\n\u001b[1;32m     39\u001b[0m     adata\u001b[38;5;241m.\u001b[39mvar_names_make_unique()\n\u001b[1;32m     41\u001b[0m \u001b[38;5;66;03m# Apply to both datasets\u001b[39;00m\n\u001b[0;32m---> 42\u001b[0m \u001b[43mgenes_to_proteins_fix\u001b[49m\u001b[43m(\u001b[49m\u001b[43msams\u001b[49m\u001b[43m[\u001b[49m\u001b[38;5;124;43m'\u001b[39;49m\u001b[38;5;124;43mmm\u001b[39;49m\u001b[38;5;124;43m'\u001b[39;49m\u001b[43m]\u001b[49m\u001b[38;5;241;43m.\u001b[39;49m\u001b[43madata\u001b[49m\u001b[43m,\u001b[49m\u001b[43m \u001b[49m\u001b[38;5;124;43m'\u001b[39;49m\u001b[38;5;124;43mmm\u001b[39;49m\u001b[38;5;124;43m'\u001b[39;49m\u001b[43m)\u001b[49m\n\u001b[1;32m     43\u001b[0m genes_to_proteins_fix(sams[\u001b[38;5;124m'\u001b[39m\u001b[38;5;124mhs\u001b[39m\u001b[38;5;124m'\u001b[39m]\u001b[38;5;241m.\u001b[39madata, \u001b[38;5;124m'\u001b[39m\u001b[38;5;124mhs\u001b[39m\u001b[38;5;124m'\u001b[39m)\n\u001b[1;32m     45\u001b[0m \u001b[38;5;28mprint\u001b[39m(sams[\u001b[38;5;124m'\u001b[39m\u001b[38;5;124mmm\u001b[39m\u001b[38;5;124m'\u001b[39m]\u001b[38;5;241m.\u001b[39madata\u001b[38;5;241m.\u001b[39mvar_names[:\u001b[38;5;241m5\u001b[39m]\u001b[38;5;241m.\u001b[39mtolist())\n",
      "Cell \u001b[0;32mIn[94], line 22\u001b[0m, in \u001b[0;36mgenes_to_proteins_fix\u001b[0;34m(adata, species)\u001b[0m\n\u001b[1;32m     20\u001b[0m prot \u001b[38;5;241m=\u001b[39m pd\u001b[38;5;241m.\u001b[39mSeries(index\u001b[38;5;241m=\u001b[39mids_clean, dtype\u001b[38;5;241m=\u001b[39m\u001b[38;5;28mobject\u001b[39m)\n\u001b[1;32m     21\u001b[0m \u001b[38;5;28;01mif\u001b[39;00m \u001b[38;5;28misinstance\u001b[39m(res, pd\u001b[38;5;241m.\u001b[39mDataFrame) \u001b[38;5;129;01mand\u001b[39;00m \u001b[38;5;124m'\u001b[39m\u001b[38;5;124mensembl.protein\u001b[39m\u001b[38;5;124m'\u001b[39m \u001b[38;5;129;01min\u001b[39;00m res:\n\u001b[0;32m---> 22\u001b[0m     ser \u001b[38;5;241m=\u001b[39m \u001b[43mres\u001b[49m\u001b[43m[\u001b[49m\u001b[38;5;124;43m'\u001b[39;49m\u001b[38;5;124;43mensembl.protein\u001b[39;49m\u001b[38;5;124;43m'\u001b[39;49m\u001b[43m]\u001b[49m\u001b[38;5;241;43m.\u001b[39;49m\u001b[43mreindex\u001b[49m\u001b[43m(\u001b[49m\u001b[43mids_clean\u001b[49m\u001b[43m)\u001b[49m\n\u001b[1;32m     23\u001b[0m     \u001b[38;5;28;01mdef\u001b[39;00m\u001b[38;5;250m \u001b[39m\u001b[38;5;21mfirst_prot\u001b[39m(x):\n\u001b[1;32m     24\u001b[0m         \u001b[38;5;28;01mif\u001b[39;00m \u001b[38;5;28misinstance\u001b[39m(x, \u001b[38;5;28mstr\u001b[39m): \u001b[38;5;28;01mreturn\u001b[39;00m x\n",
      "File \u001b[0;32m/opt/anaconda3/envs/samap310/lib/python3.10/site-packages/pandas/core/series.py:5164\u001b[0m, in \u001b[0;36mSeries.reindex\u001b[0;34m(self, index, axis, method, copy, level, fill_value, limit, tolerance)\u001b[0m\n\u001b[1;32m   5147\u001b[0m \u001b[38;5;129m@doc\u001b[39m(\n\u001b[1;32m   5148\u001b[0m     NDFrame\u001b[38;5;241m.\u001b[39mreindex,  \u001b[38;5;66;03m# type: ignore[has-type]\u001b[39;00m\n\u001b[1;32m   5149\u001b[0m     klass\u001b[38;5;241m=\u001b[39m_shared_doc_kwargs[\u001b[38;5;124m\"\u001b[39m\u001b[38;5;124mklass\u001b[39m\u001b[38;5;124m\"\u001b[39m],\n\u001b[0;32m   (...)\u001b[0m\n\u001b[1;32m   5162\u001b[0m     tolerance\u001b[38;5;241m=\u001b[39m\u001b[38;5;28;01mNone\u001b[39;00m,\n\u001b[1;32m   5163\u001b[0m ) \u001b[38;5;241m-\u001b[39m\u001b[38;5;241m>\u001b[39m Series:\n\u001b[0;32m-> 5164\u001b[0m     \u001b[38;5;28;01mreturn\u001b[39;00m \u001b[38;5;28;43msuper\u001b[39;49m\u001b[43m(\u001b[49m\u001b[43m)\u001b[49m\u001b[38;5;241;43m.\u001b[39;49m\u001b[43mreindex\u001b[49m\u001b[43m(\u001b[49m\n\u001b[1;32m   5165\u001b[0m \u001b[43m        \u001b[49m\u001b[43mindex\u001b[49m\u001b[38;5;241;43m=\u001b[39;49m\u001b[43mindex\u001b[49m\u001b[43m,\u001b[49m\n\u001b[1;32m   5166\u001b[0m \u001b[43m        \u001b[49m\u001b[43mmethod\u001b[49m\u001b[38;5;241;43m=\u001b[39;49m\u001b[43mmethod\u001b[49m\u001b[43m,\u001b[49m\n\u001b[1;32m   5167\u001b[0m \u001b[43m        \u001b[49m\u001b[43mcopy\u001b[49m\u001b[38;5;241;43m=\u001b[39;49m\u001b[43mcopy\u001b[49m\u001b[43m,\u001b[49m\n\u001b[1;32m   5168\u001b[0m \u001b[43m        \u001b[49m\u001b[43mlevel\u001b[49m\u001b[38;5;241;43m=\u001b[39;49m\u001b[43mlevel\u001b[49m\u001b[43m,\u001b[49m\n\u001b[1;32m   5169\u001b[0m \u001b[43m        \u001b[49m\u001b[43mfill_value\u001b[49m\u001b[38;5;241;43m=\u001b[39;49m\u001b[43mfill_value\u001b[49m\u001b[43m,\u001b[49m\n\u001b[1;32m   5170\u001b[0m \u001b[43m        \u001b[49m\u001b[43mlimit\u001b[49m\u001b[38;5;241;43m=\u001b[39;49m\u001b[43mlimit\u001b[49m\u001b[43m,\u001b[49m\n\u001b[1;32m   5171\u001b[0m \u001b[43m        \u001b[49m\u001b[43mtolerance\u001b[49m\u001b[38;5;241;43m=\u001b[39;49m\u001b[43mtolerance\u001b[49m\u001b[43m,\u001b[49m\n\u001b[1;32m   5172\u001b[0m \u001b[43m    \u001b[49m\u001b[43m)\u001b[49m\n",
      "File \u001b[0;32m/opt/anaconda3/envs/samap310/lib/python3.10/site-packages/pandas/core/generic.py:5629\u001b[0m, in \u001b[0;36mNDFrame.reindex\u001b[0;34m(self, labels, index, columns, axis, method, copy, level, fill_value, limit, tolerance)\u001b[0m\n\u001b[1;32m   5626\u001b[0m     \u001b[38;5;28;01mreturn\u001b[39;00m \u001b[38;5;28mself\u001b[39m\u001b[38;5;241m.\u001b[39m_reindex_multi(axes, copy, fill_value)\n\u001b[1;32m   5628\u001b[0m \u001b[38;5;66;03m# perform the reindex on the axes\u001b[39;00m\n\u001b[0;32m-> 5629\u001b[0m \u001b[38;5;28;01mreturn\u001b[39;00m \u001b[38;5;28;43mself\u001b[39;49m\u001b[38;5;241;43m.\u001b[39;49m\u001b[43m_reindex_axes\u001b[49m\u001b[43m(\u001b[49m\n\u001b[1;32m   5630\u001b[0m \u001b[43m    \u001b[49m\u001b[43maxes\u001b[49m\u001b[43m,\u001b[49m\u001b[43m \u001b[49m\u001b[43mlevel\u001b[49m\u001b[43m,\u001b[49m\u001b[43m \u001b[49m\u001b[43mlimit\u001b[49m\u001b[43m,\u001b[49m\u001b[43m \u001b[49m\u001b[43mtolerance\u001b[49m\u001b[43m,\u001b[49m\u001b[43m \u001b[49m\u001b[43mmethod\u001b[49m\u001b[43m,\u001b[49m\u001b[43m \u001b[49m\u001b[43mfill_value\u001b[49m\u001b[43m,\u001b[49m\u001b[43m \u001b[49m\u001b[43mcopy\u001b[49m\n\u001b[1;32m   5631\u001b[0m \u001b[43m\u001b[49m\u001b[43m)\u001b[49m\u001b[38;5;241m.\u001b[39m__finalize__(\u001b[38;5;28mself\u001b[39m, method\u001b[38;5;241m=\u001b[39m\u001b[38;5;124m\"\u001b[39m\u001b[38;5;124mreindex\u001b[39m\u001b[38;5;124m\"\u001b[39m)\n",
      "File \u001b[0;32m/opt/anaconda3/envs/samap310/lib/python3.10/site-packages/pandas/core/generic.py:5652\u001b[0m, in \u001b[0;36mNDFrame._reindex_axes\u001b[0;34m(self, axes, level, limit, tolerance, method, fill_value, copy)\u001b[0m\n\u001b[1;32m   5649\u001b[0m     \u001b[38;5;28;01mcontinue\u001b[39;00m\n\u001b[1;32m   5651\u001b[0m ax \u001b[38;5;241m=\u001b[39m \u001b[38;5;28mself\u001b[39m\u001b[38;5;241m.\u001b[39m_get_axis(a)\n\u001b[0;32m-> 5652\u001b[0m new_index, indexer \u001b[38;5;241m=\u001b[39m \u001b[43max\u001b[49m\u001b[38;5;241;43m.\u001b[39;49m\u001b[43mreindex\u001b[49m\u001b[43m(\u001b[49m\n\u001b[1;32m   5653\u001b[0m \u001b[43m    \u001b[49m\u001b[43mlabels\u001b[49m\u001b[43m,\u001b[49m\u001b[43m \u001b[49m\u001b[43mlevel\u001b[49m\u001b[38;5;241;43m=\u001b[39;49m\u001b[43mlevel\u001b[49m\u001b[43m,\u001b[49m\u001b[43m \u001b[49m\u001b[43mlimit\u001b[49m\u001b[38;5;241;43m=\u001b[39;49m\u001b[43mlimit\u001b[49m\u001b[43m,\u001b[49m\u001b[43m \u001b[49m\u001b[43mtolerance\u001b[49m\u001b[38;5;241;43m=\u001b[39;49m\u001b[43mtolerance\u001b[49m\u001b[43m,\u001b[49m\u001b[43m \u001b[49m\u001b[43mmethod\u001b[49m\u001b[38;5;241;43m=\u001b[39;49m\u001b[43mmethod\u001b[49m\n\u001b[1;32m   5654\u001b[0m \u001b[43m\u001b[49m\u001b[43m)\u001b[49m\n\u001b[1;32m   5656\u001b[0m axis \u001b[38;5;241m=\u001b[39m \u001b[38;5;28mself\u001b[39m\u001b[38;5;241m.\u001b[39m_get_axis_number(a)\n\u001b[1;32m   5657\u001b[0m obj \u001b[38;5;241m=\u001b[39m obj\u001b[38;5;241m.\u001b[39m_reindex_with_indexers(\n\u001b[1;32m   5658\u001b[0m     {axis: [new_index, indexer]},\n\u001b[1;32m   5659\u001b[0m     fill_value\u001b[38;5;241m=\u001b[39mfill_value,\n\u001b[1;32m   5660\u001b[0m     copy\u001b[38;5;241m=\u001b[39mcopy,\n\u001b[1;32m   5661\u001b[0m     allow_dups\u001b[38;5;241m=\u001b[39m\u001b[38;5;28;01mFalse\u001b[39;00m,\n\u001b[1;32m   5662\u001b[0m )\n",
      "File \u001b[0;32m/opt/anaconda3/envs/samap310/lib/python3.10/site-packages/pandas/core/indexes/base.py:4436\u001b[0m, in \u001b[0;36mIndex.reindex\u001b[0;34m(self, target, method, level, limit, tolerance)\u001b[0m\n\u001b[1;32m   4433\u001b[0m     \u001b[38;5;28;01mraise\u001b[39;00m \u001b[38;5;167;01mValueError\u001b[39;00m(\u001b[38;5;124m\"\u001b[39m\u001b[38;5;124mcannot handle a non-unique multi-index!\u001b[39m\u001b[38;5;124m\"\u001b[39m)\n\u001b[1;32m   4434\u001b[0m \u001b[38;5;28;01melif\u001b[39;00m \u001b[38;5;129;01mnot\u001b[39;00m \u001b[38;5;28mself\u001b[39m\u001b[38;5;241m.\u001b[39mis_unique:\n\u001b[1;32m   4435\u001b[0m     \u001b[38;5;66;03m# GH#42568\u001b[39;00m\n\u001b[0;32m-> 4436\u001b[0m     \u001b[38;5;28;01mraise\u001b[39;00m \u001b[38;5;167;01mValueError\u001b[39;00m(\u001b[38;5;124m\"\u001b[39m\u001b[38;5;124mcannot reindex on an axis with duplicate labels\u001b[39m\u001b[38;5;124m\"\u001b[39m)\n\u001b[1;32m   4437\u001b[0m \u001b[38;5;28;01melse\u001b[39;00m:\n\u001b[1;32m   4438\u001b[0m     indexer, _ \u001b[38;5;241m=\u001b[39m \u001b[38;5;28mself\u001b[39m\u001b[38;5;241m.\u001b[39mget_indexer_non_unique(target)\n",
      "\u001b[0;31mValueError\u001b[0m: cannot reindex on an axis with duplicate labels"
     ]
    }
   ],
   "source": [
    "import re, pandas as pd, numpy as np, mygene\n",
    "mg = mygene.MyGeneInfo()\n",
    "\n",
    "def genes_to_proteins_fix(adata, species):  # species: 'mm' or 'hs'\n",
    "    sp = 'mouse' if species=='mm' else 'human'\n",
    "    ids_orig = adata.var_names.astype(str)\n",
    "    # 1) clean: strip species prefixes and version suffixes\n",
    "    ids_clean = ids_orig.str.replace(r'^(mm_|hs_)', '', regex=True).str.replace(r'\\.\\d+$','', regex=True)\n",
    "    # if they’re already protein IDs, just normalize versions and return\n",
    "    if ids_clean.str.match(r'^ENS(MUS)?P\\d+$').mean() > 0.9:\n",
    "        adata.var['protein_id'] = ids_clean\n",
    "        adata.var_names = adata.var['protein_id'].astype(str)\n",
    "        adata.var_names_make_unique()\n",
    "        return\n",
    "    # 2) gene -> protein\n",
    "    res = mg.querymany(ids_clean.tolist(),\n",
    "                       scopes='ensembl.gene',\n",
    "                       fields='ensembl.protein',\n",
    "                       species=sp, as_dataframe=True)\n",
    "    prot = pd.Series(index=ids_clean, dtype=object)\n",
    "    if isinstance(res, pd.DataFrame) and 'ensembl.protein' in res:\n",
    "        ser = res['ensembl.protein'].reindex(ids_clean)\n",
    "        def first_prot(x):\n",
    "            if isinstance(x, str): return x\n",
    "            if isinstance(x, dict): return x.get('protein') or x.get('id')\n",
    "            if isinstance(x, (list, tuple, np.ndarray)):\n",
    "                for v in x:\n",
    "                    if isinstance(v, str): return v\n",
    "                    if isinstance(v, dict):\n",
    "                        pid = v.get('protein') or v.get('id')\n",
    "                        if pid: return pid\n",
    "            return None\n",
    "        prot = ser.apply(first_prot)\n",
    "    # 3) fallback to original if missing, strip version on proteins\n",
    "    prot = prot.where(prot.notna(), ids_clean).astype(str).str.replace(r'\\.\\d+$','', regex=True)\n",
    "    # 4) set var_names\n",
    "    adata.var['protein_id'] = prot.values\n",
    "    adata.var_names = adata.var['protein_id'].astype(str)\n",
    "    adata.var_names_make_unique()\n",
    "\n",
    "# Apply to both datasets\n",
    "genes_to_proteins_fix(sams['mm'].adata, 'mm')\n",
    "genes_to_proteins_fix(sams['hs'].adata, 'hs')\n",
    "\n",
    "print(sams['mm'].adata.var_names[:5].tolist())\n",
    "print(sams['hs'].adata.var_names[:5].tolist())\n"
   ]
  },
  {
   "cell_type": "code",
   "execution_count": 95,
   "id": "eefcfc7e-3366-472b-9204-0b01e0cda834",
   "metadata": {},
   "outputs": [],
   "source": [
    "# pip install mygene\n",
    "import re\n",
    "from typing import Optional, Dict, List\n",
    "import mygene\n",
    "\n",
    "# Regex to find Ensembl protein IDs (human ENSP*, mouse ENSMUSP*)\n",
    "PROTEIN_RE = re.compile(r\"(ENSP\\d+|ENSMUSP\\d+)(?:\\.\\d+)?\")  # tolerates .version\n",
    "\n",
    "def _strip_ver(id_: str) -> str:\n",
    "    return id_.split(\".\", 1)[0]\n",
    "\n",
    "def _species_for_id(pid: str) -> str:\n",
    "    pid = pid.upper()\n",
    "    if pid.startswith(\"ENSP\"):\n",
    "        return \"human\"\n",
    "    if pid.startswith(\"ENSMUSP\"):\n",
    "        return \"mouse\"\n",
    "    # fallback if something unexpected slips through\n",
    "    return \"human\"\n",
    "\n",
    "def _extract_gene_from_mg_hit(hit: Dict) -> Optional[str]:\n",
    "    \"\"\"mygene may return dict or list in 'ensembl'; extract the .gene field.\"\"\"\n",
    "    ens = hit.get(\"ensembl\")\n",
    "    if isinstance(ens, dict):\n",
    "        g = ens.get(\"gene\")\n",
    "        return _strip_ver(g) if isinstance(g, str) else None\n",
    "    if isinstance(ens, list):\n",
    "        for item in ens:\n",
    "            if isinstance(item, dict) and \"gene\" in item:\n",
    "                g = item[\"gene\"]\n",
    "                return _strip_ver(g) if isinstance(g, str) else None\n",
    "    return None\n",
    "\n",
    "def protein_id_to_gene_id(protein_id: str, species: Optional[str] = None) -> Optional[str]:\n",
    "    \"\"\"\n",
    "    Convert a single Ensembl protein ID (ENSP* or ENSMUSP*) to a gene ID (ENSG*/ENSMUSG*).\n",
    "    Returns None if no mapping is found.\n",
    "    \"\"\"\n",
    "    mg = mygene.MyGeneInfo()\n",
    "    q = _strip_ver(protein_id)\n",
    "    sp = species or _species_for_id(q)\n",
    "    res = mg.querymany([q], scopes=\"ensembl.protein\", fields=\"ensembl.gene\",\n",
    "                       species=sp, as_dataframe=False, verbose=False)\n",
    "    if not res:\n",
    "        return None\n",
    "    hit = res[0] if isinstance(res, list) else res\n",
    "    if hit.get(\"notfound\"):\n",
    "        return None\n",
    "    gene = _extract_gene_from_mg_hit(hit)\n",
    "    return gene\n",
    "\n",
    "def replace_proteins_with_genes(text: str) -> str:\n",
    "    \"\"\"\n",
    "    Find all ENSP*/ENSMUSP* IDs in a text and replace each with the corresponding\n",
    "    ENSG*/ENSMUSG*. Unmapped proteins are left unchanged.\n",
    "    \"\"\"\n",
    "    mg = mygene.MyGeneInfo()\n",
    "    # 1) collect unique protein IDs (version-stripped) preserving order\n",
    "    prot_ids: List[str] = []\n",
    "    for m in PROTEIN_RE.finditer(text):\n",
    "        pid = _strip_ver(m.group(0))\n",
    "        if pid not in prot_ids:\n",
    "            prot_ids.append(pid)\n",
    "\n",
    "    # 2) query in two batches by species (better accuracy than mixing)\n",
    "    human = [p for p in prot_ids if p.startswith(\"ENSP\")]\n",
    "    mouse = [p for p in prot_ids if p.startswith(\"ENSMUSP\")]\n",
    "\n",
    "    mapping: Dict[str, str] = {}\n",
    "\n",
    "    def do_query(batch: List[str], species: str):\n",
    "        if not batch:\n",
    "            return\n",
    "        res = mg.querymany(batch, scopes=\"ensembl.protein\", fields=\"ensembl.gene\",\n",
    "                           species=species, as_dataframe=False, verbose=False)\n",
    "        for r in res:\n",
    "            if r.get(\"notfound\"):\n",
    "                continue\n",
    "            q = _strip_ver(r.get(\"query\", \"\"))\n",
    "            g = _extract_gene_from_mg_hit(r)\n",
    "            if q and g:\n",
    "                mapping[q] = g\n",
    "\n",
    "    do_query(human, \"human\")\n",
    "    do_query(mouse, \"mouse\")\n",
    "\n",
    "    # 3) replace in the original text (keep original version suffix/punctuation intact)\n",
    "    def repl(m: re.Match) -> str:\n",
    "        original = m.group(0)\n",
    "        core = _strip_ver(original)\n",
    "        return mapping.get(core, original)\n",
    "\n",
    "    return PROTEIN_RE.sub(repl, text)\n",
    "\n",
    "# ---------------------------\n",
    "# Examples:\n",
    "# print(protein_id_to_gene_id(\"ENSP00000354587.2\"))         # -> ENSG00000141510 (e.g., TP53’s gene ID)\n",
    "# print(replace_proteins_with_genes(\"foo ENSP00000354587.2 bar ENSMUSP00000100105.2\"))\n"
   ]
  },
  {
   "cell_type": "code",
   "execution_count": null,
   "id": "c0d17883-c1a0-4678-9383-e0ec33643e2d",
   "metadata": {},
   "outputs": [],
   "source": []
  },
  {
   "cell_type": "code",
   "execution_count": 96,
   "id": "7b6eefaa-28b8-4d5b-b31b-f9ee6d6293ec",
   "metadata": {},
   "outputs": [],
   "source": [
    "# load table"
   ]
  },
  {
   "cell_type": "code",
   "execution_count": 97,
   "id": "47742ff8-28cb-4a7d-a6b2-2ee64cfc1234",
   "metadata": {},
   "outputs": [],
   "source": [
    "import pandas as pd, mygene\n",
    "\n",
    "def stripver(x): return str(x).split(\".\", 1)[0]\n",
    "\n",
    "def build_prot2gene(id_list):\n",
    "    mg = mygene.MyGeneInfo()\n",
    "    ids = [stripver(x) for x in id_list]\n",
    "    ids = list(dict.fromkeys(ids))            # unique, keep order\n",
    "    human = [x for x in ids if x.startswith(\"ENSP\")]\n",
    "    mouse = [x for x in ids if x.startswith(\"ENSMUSP\")]\n",
    "    m = {}\n",
    "\n",
    "    def q(batch, species):\n",
    "        if not batch: return\n",
    "        res = mg.querymany(batch, scopes=\"ensembl.protein\",\n",
    "                           fields=\"ensembl.gene\", species=species,\n",
    "                           as_dataframe=False, verbose=False)\n",
    "        for r in res:\n",
    "            if r.get(\"notfound\"): continue\n",
    "            ens = r.get(\"ensembl\")\n",
    "            gene = None\n",
    "            if isinstance(ens, dict): gene = ens.get(\"gene\")\n",
    "            elif isinstance(ens, list):\n",
    "                for it in ens:\n",
    "                    if isinstance(it, dict) and \"gene\" in it:\n",
    "                        gene = it[\"gene\"]; break\n",
    "            if r.get(\"query\") and gene:\n",
    "                m[stripver(r[\"query\"])] = stripver(gene)\n",
    "\n",
    "    q(human, \"human\"); q(mouse, \"mouse\")\n",
    "    return m"
   ]
  },
  {
   "cell_type": "code",
   "execution_count": 105,
   "id": "bdb4db76-7dc3-46ec-847a-5213df941af6",
   "metadata": {},
   "outputs": [],
   "source": [
    "#df = pd.read_csv(\"/Users/dr/cr/pr/class_II_project/in/maps/hsmm/hs_to_mm.txt\", sep=\"\\t\", header=None)\n",
    "df = pd.read_csv(\"/Users/dr/cr/pr/class_II_project/in/maps/hsmm/mm_to_hs.txt\", sep=\"\\t\", header=None)\n",
    "\n",
    "# collect unique protein IDs from the two columns\n",
    "#all_prots = pd.unique(pd.concat([df[0], df[1]]).astype(str).map(stripver))"
   ]
  },
  {
   "cell_type": "code",
   "execution_count": 106,
   "id": "21947d7a-7638-4702-b25e-7db64ad78111",
   "metadata": {},
   "outputs": [],
   "source": [
    "#df = pd.read_csv(\"/Users/dr/cr/pr/class_II_project/in/maps/hsmm/hs_to_mm.txt\", sep=\"\\t\", header=None)\n",
    "\n",
    "all_prots = pd.unique(pd.concat([df[0], df[1]]).astype(str).map(stripver))"
   ]
  },
  {
   "cell_type": "code",
   "execution_count": 107,
   "id": "5a56a091-2e60-44ce-809b-2e6d0ef6ba90",
   "metadata": {},
   "outputs": [
    {
     "name": "stderr",
     "output_type": "stream",
     "text": [
      "Input sequence provided is already in string format. No operation performed\n",
      "Input sequence provided is already in string format. No operation performed\n",
      "Input sequence provided is already in string format. No operation performed\n",
      "Input sequence provided is already in string format. No operation performed\n"
     ]
    }
   ],
   "source": [
    "prot2gene = build_prot2gene(all_prots)"
   ]
  },
  {
   "cell_type": "code",
   "execution_count": 108,
   "id": "dd09d3eb-9908-40b6-af37-907d7b58ecfa",
   "metadata": {},
   "outputs": [],
   "source": [
    "# replace columns 0 and 1 in place; keep unmapped as-is\n",
    "df[0] = df[0].astype(str).map(lambda x: prot2gene.get(stripver(x), x))\n",
    "df[1] = df[1].astype(str).map(lambda x: prot2gene.get(stripver(x), x))\n",
    "\n",
    "df.to_csv(\"/Users/dr/cr/pr/class_II_project/in/maps/out_mm_to_hs.txt\", sep=\"\\t\", header=False, index=False)"
   ]
  },
  {
   "cell_type": "code",
   "execution_count": null,
   "id": "f6eb7b9d-2974-4789-a0b7-d7c73bc79031",
   "metadata": {},
   "outputs": [],
   "source": []
  }
 ],
 "metadata": {
  "kernelspec": {
   "display_name": "Python (samap310)",
   "language": "python",
   "name": "samap310"
  },
  "language_info": {
   "codemirror_mode": {
    "name": "ipython",
    "version": 3
   },
   "file_extension": ".py",
   "mimetype": "text/x-python",
   "name": "python",
   "nbconvert_exporter": "python",
   "pygments_lexer": "ipython3",
   "version": "3.10.18"
  }
 },
 "nbformat": 4,
 "nbformat_minor": 5
}
